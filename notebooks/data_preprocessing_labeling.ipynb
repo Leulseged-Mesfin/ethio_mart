{
 "cells": [
  {
   "cell_type": "code",
   "execution_count": 23,
   "metadata": {},
   "outputs": [],
   "source": [
    "import pandas as pd\n",
    "import re\n",
    "import os,sys\n",
    "\n",
    "# Load your DataFrame\n",
    "df = pd.read_csv('../telegram_data.csv')"
   ]
  },
  {
   "cell_type": "code",
   "execution_count": null,
   "metadata": {},
   "outputs": [],
   "source": [
    "# Add the 'scripts' directory to the Python path for module imports\n",
    "sys.path.append(os.path.abspath(os.path.join('..', 'scripts')))\n",
    "\n",
    "# import script for preprocessing\n",
    "from scripts.utils import *"
   ]
  },
  {
   "cell_type": "code",
   "execution_count": 24,
   "metadata": {},
   "outputs": [
    {
     "data": {
      "text/html": [
       "<div>\n",
       "<style scoped>\n",
       "    .dataframe tbody tr th:only-of-type {\n",
       "        vertical-align: middle;\n",
       "    }\n",
       "\n",
       "    .dataframe tbody tr th {\n",
       "        vertical-align: top;\n",
       "    }\n",
       "\n",
       "    .dataframe thead th {\n",
       "        text-align: right;\n",
       "    }\n",
       "</style>\n",
       "<table border=\"1\" class=\"dataframe\">\n",
       "  <thead>\n",
       "    <tr style=\"text-align: right;\">\n",
       "      <th></th>\n",
       "      <th>Channel Title</th>\n",
       "      <th>Channel Username</th>\n",
       "      <th>ID</th>\n",
       "      <th>Message</th>\n",
       "      <th>Date</th>\n",
       "      <th>Media Path</th>\n",
       "    </tr>\n",
       "  </thead>\n",
       "  <tbody>\n",
       "    <tr>\n",
       "      <th>0</th>\n",
       "      <td>ምርጥ ዕቃ</td>\n",
       "      <td>@MerttEka</td>\n",
       "      <td>6828</td>\n",
       "      <td>📣 🔠🔠🔠 🔠🔠🔠🔠🔠  🔠🔠🔠\\n✔️ የትኩስ ውሃ መያዢያ ከረጢት\\n✔️ 1.8...</td>\n",
       "      <td>2024-10-01 10:39:48+00:00</td>\n",
       "      <td>photos/@MerttEka_6828.jpg</td>\n",
       "    </tr>\n",
       "    <tr>\n",
       "      <th>1</th>\n",
       "      <td>ምርጥ ዕቃ</td>\n",
       "      <td>@MerttEka</td>\n",
       "      <td>6827</td>\n",
       "      <td>NaN</td>\n",
       "      <td>2024-09-30 13:19:34+00:00</td>\n",
       "      <td>photos/@MerttEka_6827.jpg</td>\n",
       "    </tr>\n",
       "    <tr>\n",
       "      <th>2</th>\n",
       "      <td>ምርጥ ዕቃ</td>\n",
       "      <td>@MerttEka</td>\n",
       "      <td>6826</td>\n",
       "      <td>NaN</td>\n",
       "      <td>2024-09-30 13:19:34+00:00</td>\n",
       "      <td>photos/@MerttEka_6826.jpg</td>\n",
       "    </tr>\n",
       "    <tr>\n",
       "      <th>3</th>\n",
       "      <td>ምርጥ ዕቃ</td>\n",
       "      <td>@MerttEka</td>\n",
       "      <td>6825</td>\n",
       "      <td>📣Special Base for Refrigerators\\n\\n✔️የፍሪጅ ማስቀመ...</td>\n",
       "      <td>2024-09-30 13:19:34+00:00</td>\n",
       "      <td>photos/@MerttEka_6825.jpg</td>\n",
       "    </tr>\n",
       "    <tr>\n",
       "      <th>4</th>\n",
       "      <td>ምርጥ ዕቃ</td>\n",
       "      <td>@MerttEka</td>\n",
       "      <td>6824</td>\n",
       "      <td>NaN</td>\n",
       "      <td>2024-09-30 11:11:45+00:00</td>\n",
       "      <td>photos/@MerttEka_6824.jpg</td>\n",
       "    </tr>\n",
       "  </tbody>\n",
       "</table>\n",
       "</div>"
      ],
      "text/plain": [
       "  Channel Title Channel Username    ID  \\\n",
       "0        ምርጥ ዕቃ        @MerttEka  6828   \n",
       "1        ምርጥ ዕቃ        @MerttEka  6827   \n",
       "2        ምርጥ ዕቃ        @MerttEka  6826   \n",
       "3        ምርጥ ዕቃ        @MerttEka  6825   \n",
       "4        ምርጥ ዕቃ        @MerttEka  6824   \n",
       "\n",
       "                                             Message  \\\n",
       "0  📣 🔠🔠🔠 🔠🔠🔠🔠🔠  🔠🔠🔠\\n✔️ የትኩስ ውሃ መያዢያ ከረጢት\\n✔️ 1.8...   \n",
       "1                                                NaN   \n",
       "2                                                NaN   \n",
       "3  📣Special Base for Refrigerators\\n\\n✔️የፍሪጅ ማስቀመ...   \n",
       "4                                                NaN   \n",
       "\n",
       "                        Date                 Media Path  \n",
       "0  2024-10-01 10:39:48+00:00  photos/@MerttEka_6828.jpg  \n",
       "1  2024-09-30 13:19:34+00:00  photos/@MerttEka_6827.jpg  \n",
       "2  2024-09-30 13:19:34+00:00  photos/@MerttEka_6826.jpg  \n",
       "3  2024-09-30 13:19:34+00:00  photos/@MerttEka_6825.jpg  \n",
       "4  2024-09-30 11:11:45+00:00  photos/@MerttEka_6824.jpg  "
      ]
     },
     "execution_count": 24,
     "metadata": {},
     "output_type": "execute_result"
    }
   ],
   "source": [
    "df.head()"
   ]
  },
  {
   "cell_type": "code",
   "execution_count": 26,
   "metadata": {},
   "outputs": [
    {
     "name": "stdout",
     "output_type": "stream",
     "text": [
      "Checking for NaN values in the 'Message' column:\n",
      "Number of NaN values in 'Message' column: 1563\n"
     ]
    }
   ],
   "source": [
    "print(\"Checking for NaN values in the 'Message' column:\")\n",
    "nan_count = df['Message'].isnull().sum()\n",
    "print(f\"Number of NaN values in 'Message' column: {nan_count}\")"
   ]
  },
  {
   "cell_type": "code",
   "execution_count": 27,
   "metadata": {},
   "outputs": [
    {
     "name": "stdout",
     "output_type": "stream",
     "text": [
      "Dataset shape after dropping NaN values in 'Message' column: (4168, 6)\n"
     ]
    }
   ],
   "source": [
    "df = df.dropna(subset=['Message'])\n",
    "\n",
    "# Print the shape of the dataset after dropping NaN values in the \"Message\" column\n",
    "print(f\"Dataset shape after dropping NaN values in 'Message' column: {df.shape}\")\n"
   ]
  },
  {
   "cell_type": "code",
   "execution_count": 28,
   "metadata": {},
   "outputs": [
    {
     "name": "stdout",
     "output_type": "stream",
     "text": [
      "<class 'pandas.core.frame.DataFrame'>\n",
      "Index: 4168 entries, 0 to 5717\n",
      "Data columns (total 6 columns):\n",
      " #   Column            Non-Null Count  Dtype \n",
      "---  ------            --------------  ----- \n",
      " 0   Channel Title     4168 non-null   object\n",
      " 1   Channel Username  4168 non-null   object\n",
      " 2   ID                4168 non-null   int64 \n",
      " 3   Message           4168 non-null   object\n",
      " 4   Date              4168 non-null   object\n",
      " 5   Media Path        3083 non-null   object\n",
      "dtypes: int64(1), object(5)\n",
      "memory usage: 227.9+ KB\n"
     ]
    }
   ],
   "source": [
    "df.info()"
   ]
  },
  {
   "cell_type": "code",
   "execution_count": 37,
   "metadata": {},
   "outputs": [
    {
     "data": {
      "text/plain": [
       "0           \\n️ የትኩስ ውሃ መያዢያ ከረጢት\\n️ 1.8 ሊትር ውሃ ይይዛል\\n...\n",
       "3       Special Base for Refrigerators\\n\\n️የፍሪጅ ማስቀመጫ\\...\n",
       "6        Door Step Shoe Rack\\n\\n️ የበር ስር ጫማ ማስቀመጫ\\n️ ወ...\n",
       "9         \\n\\n️ ዘመናዊ በኤሌክትሮኒክስ የሚሰራ ሚዛን\\n️እስከ 50 ኪሎ ይመ...\n",
       "10         \\n\\n️ ቦርጭ የሚሰበስብ\\n️የቦርጭ ስብ የሚያቃጥል \\n️ ማራኪ የ...\n",
       "                              ...                        \n",
       "5707                                                 2500\n",
       "5708                                  ዋጋ 2500\\n0983063957\n",
       "5712    የሙያ ባለቤት መሆን መሠልጠን ነው።\\nቀለም ቀቢ ሳያስፈልግዎ ቤትዎን ወይ...\n",
       "5714    ቤትና ግቢዎን እንዲሁም የብረት እና የእንጨት ቁሳቁስዎን ቀለም ቀቢ ሳያስ...\n",
       "5717                  ለማዘዝ\\n https://t.megojomewechiyaeka\n",
       "Name: Message, Length: 4168, dtype: object"
      ]
     },
     "execution_count": 37,
     "metadata": {},
     "output_type": "execute_result"
    }
   ],
   "source": [
    "message_df=df['Message']\n",
    "message_df"
   ]
  },
  {
   "cell_type": "code",
   "execution_count": 41,
   "metadata": {},
   "outputs": [],
   "source": [
    "# Apply the clean function to the 'Message' column\n",
    "df['Message'] = df['Message'].apply(clean_text)\n"
   ]
  },
  {
   "cell_type": "code",
   "execution_count": 44,
   "metadata": {},
   "outputs": [
    {
     "data": {
      "text/plain": [
       "0       ️ የትኩስ ውሃ መያዢያ ከረጢት ️ 1.8 ሊትር ውሃ ይይዛል ️ ሙቀት ከሚ...\n",
       "3       ️የፍሪጅ ማስቀመጫ ️ እስከ 200 ኪሎ ድረስ ዕቃ የሚሸከም ️ ወፍራም ብ...\n",
       "6       ️ የበር ስር ጫማ ማስቀመጫ ️ ወፍራም የብረት ቱቦ ️ጠንካራ ረጅም ጊዜ ...\n",
       "9       ️ ዘመናዊ በኤሌክትሮኒክስ የሚሰራ ሚዛን ️እስከ 50 ኪሎ ይመዝናል ️ በ...\n",
       "10      ️ ቦርጭ የሚሰበስብ ️የቦርጭ ስብ የሚያቃጥል ️ ማራኪ የሰውነት ቅርፅ ይ...\n",
       "                              ...                        \n",
       "5707                                                 2500\n",
       "5708                                   ዋጋ 2500 0983063957\n",
       "5712    የሙያ ባለቤት መሆን መሠልጠን ነው። ቀለም ቀቢ ሳያስፈልግዎ ቤትዎን ወይን...\n",
       "5714    ቤትና ግቢዎን እንዲሁም የብረት እና የእንጨት ቁሳቁስዎን ቀለም ቀቢ ሳያስ...\n",
       "5717                                            ለማዘዝ ://.\n",
       "Name: Message, Length: 4168, dtype: object"
      ]
     },
     "execution_count": 44,
     "metadata": {},
     "output_type": "execute_result"
    }
   ],
   "source": [
    "# Preprocessed messages\n",
    "df['Message']"
   ]
  },
  {
   "cell_type": "markdown",
   "metadata": {},
   "source": []
  }
 ],
 "metadata": {
  "kernelspec": {
   "display_name": "myenv_w5",
   "language": "python",
   "name": "myenv_w5"
  },
  "language_info": {
   "codemirror_mode": {
    "name": "ipython",
    "version": 3
   },
   "file_extension": ".py",
   "mimetype": "text/x-python",
   "name": "python",
   "nbconvert_exporter": "python",
   "pygments_lexer": "ipython3",
   "version": "3.12.3"
  }
 },
 "nbformat": 4,
 "nbformat_minor": 2
}
